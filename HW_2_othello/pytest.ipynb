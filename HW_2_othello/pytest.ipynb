{
 "cells": [
  {
   "cell_type": "code",
   "execution_count": null,
   "id": "ba52281b",
   "metadata": {},
   "outputs": [],
   "source": [
    "import numpy as np\n",
    "\n",
    "const_iterator = 1000\n",
    "UPPER_BOUND = 200\n",
    "MAX_AI_COUNT=20000\n",
    "np.random.seed(seed=1337)\n",
    "random_times = np.random.randint(0, 20_000, size=50)\n",
    "random_times = np.sort(random_times)\n",
    "\n"
   ]
  },
  {
   "cell_type": "code",
   "execution_count": 42,
   "id": "291bc65b",
   "metadata": {},
   "outputs": [
    {
     "name": "stdout",
     "output_type": "stream",
     "text": [
      "\n",
      "(1, np.float64(979.8)) (2, np.float64(957.0)) (3, np.float64(954.9)) (4, np.float64(905.85)) (5, np.float64(867.35)) (6, np.float64(838.85)) (7, np.float64(762.25)) (8, np.float64(755.4499999999999)) (9, np.float64(706.0500000000001)) (10, np.float64(699.9)) (11, np.float64(654.65)) (12, np.float64(654.1)) (13, np.float64(653.1)) (14, np.float64(635.15)) (15, np.float64(615.5999999999999)) (16, np.float64(591.7)) (17, np.float64(580.6)) (18, np.float64(573.55)) (19, np.float64(564.4)) (20, np.float64(554.9999999999999)) (21, np.float64(551.0999999999999)) (22, np.float64(546.45)) (23, np.float64(527.6)) (24, np.float64(514.15)) (25, np.float64(512.6999999999999)) (26, np.float64(503.85)) (27, np.float64(502.25)) (28, np.float64(420.20000000000005)) (29, np.float64(407.59999999999997)) (30, np.float64(404.4)) (31, np.float64(395.15)) (32, np.float64(372.34999999999997)) (33, np.float64(305.74999999999994)) (34, np.float64(293.15000000000003)) (35, np.float64(284.74999999999994)) (36, np.float64(279.59999999999997)) (37, np.float64(266.49999999999994)) (38, np.float64(261.29999999999995)) (39, np.float64(250.0)) (40, np.float64(230.85)) (41, np.float64(216.85)) (42, 200) (43, 200) (44, 200) (45, 200) (46, 200) (47, 200) (48, 200) (49, 200) (50, 200)\n"
     ]
    },
    {
     "data": {
      "image/png": "[encoded data removed]",
      "text/plain": [
       "<Figure size 640x480 with 1 Axes>"
      ]
     },
     "metadata": {},
     "output_type": "display_data"
    }
   ],
   "source": [
    "time_list = {}\n",
    "count = 1\n",
    "for i in random_times:\n",
    "    time_list[count] = max(const_iterator * ((1-i/MAX_AI_COUNT)), UPPER_BOUND )\n",
    "    count+=1\n",
    "print()\n",
    "\n",
    "import matplotlib.pyplot as plt\n",
    "print(*time_list.items())\n",
    "plt.bar(*zip(*time_list.items()))\n",
    "plt.show()\n",
    "# for i in random_times[:10]:\n",
    "    \n",
    "    # print(i / MAX_AI_COUNT)"
   ]
  }
 ],
 "metadata": {
  "kernelspec": {
   "display_name": "py312",
   "language": "python",
   "name": "python3"
  },
  "language_info": {
   "codemirror_mode": {
    "name": "ipython",
    "version": 3
   },
   "file_extension": ".py",
   "mimetype": "text/x-python",
   "name": "python",
   "nbconvert_exporter": "python",
   "pygments_lexer": "ipython3",
   "version": "3.13.2"
  }
 },
 "nbformat": 4,
 "nbformat_minor": 5
}
